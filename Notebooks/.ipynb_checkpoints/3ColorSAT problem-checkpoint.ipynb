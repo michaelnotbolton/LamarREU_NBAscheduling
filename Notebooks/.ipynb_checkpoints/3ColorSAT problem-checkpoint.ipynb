{
 "cells": [
  {
   "cell_type": "code",
   "execution_count": 38,
   "metadata": {},
   "outputs": [
    {
     "name": "stdout",
     "output_type": "stream",
     "text": [
      "(1, 2)\n"
     ]
    }
   ],
   "source": [
    "#graphstring = input(\"Graph:\")\n",
    "#graph = eval(graphstring)\n",
    "graph = {0: [1, 2], 1: [0, 2], 2: [0, 1]}\n",
    "keys = graph.keys()\n",
    "\n",
    "edges = []\n",
    "for key in keys:\n",
    "    for child in graph[key]:\n",
    "        if not(((key,child) in edges) or ((child,key) in edges)):\n",
    "            edges.append((key,child))\n",
    "\n",
    "print(edges[2])\n"
   ]
  },
  {
   "cell_type": "code",
   "execution_count": 32,
   "metadata": {},
   "outputs": [
    {
     "name": "stdout",
     "output_type": "stream",
     "text": [
      "    c Practice CNFp cnf 9 36\n",
      "c Edge Clauses \n",
      " 1 -2 -3\n",
      " -1 2 -3\n",
      " -1 -2 3\n",
      " 1 2 3\n",
      " 4 -5 -6\n",
      " -4 5 -6\n",
      " -4 -5 6\n",
      " 4 5 6\n",
      " 7 -8 -9\n",
      " -7 8 -9\n",
      " -7 -8 9\n",
      " 7 8 9\n",
      "c Vertex Clauses \n",
      "\n"
     ]
    }
   ],
   "source": [
    "\n",
    "print(create_cnf())"
   ]
  },
  {
   "cell_type": "code",
   "execution_count": null,
   "metadata": {},
   "outputs": [],
   "source": []
  }
 ],
 "metadata": {
  "kernelspec": {
   "display_name": "Python 3",
   "language": "python",
   "name": "python3"
  },
  "language_info": {
   "codemirror_mode": {
    "name": "ipython",
    "version": 3
   },
   "file_extension": ".py",
   "mimetype": "text/x-python",
   "name": "python",
   "nbconvert_exporter": "python",
   "pygments_lexer": "ipython3",
   "version": "3.7.6"
  }
 },
 "nbformat": 4,
 "nbformat_minor": 4
}
