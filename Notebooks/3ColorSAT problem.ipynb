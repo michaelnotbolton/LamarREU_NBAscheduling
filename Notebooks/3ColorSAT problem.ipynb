{
 "cells": [
  {
   "cell_type": "code",
   "execution_count": 37,
   "metadata": {},
   "outputs": [
    {
     "ename": "SyntaxError",
     "evalue": "invalid syntax (<ipython-input-37-1062a0a35839>, line 65)",
     "output_type": "error",
     "traceback": [
      "\u001b[0;36m  File \u001b[0;32m\"<ipython-input-37-1062a0a35839>\"\u001b[0;36m, line \u001b[0;32m65\u001b[0m\n\u001b[0;31m    if ((edges[n] == (key,*)) or edges[n] == (*,key)):\u001b[0m\n\u001b[0m                           ^\u001b[0m\n\u001b[0;31mSyntaxError\u001b[0m\u001b[0;31m:\u001b[0m invalid syntax\n"
     ]
    }
   ],
   "source": [
    "variable_count = 0\n",
    "\n",
    "def number_of_vars():\n",
    "    #number of edges\n",
    "    n = 3 * len(edges)\n",
    "    return n\n",
    "\n",
    "def number_of_clauses():\n",
    "    n = 0\n",
    "    #4 clauses for every edge\n",
    "    n += 4*number_of_vars()\n",
    "    # how many clauses for each vertex?\n",
    "    \n",
    "    return n\n",
    "\n",
    "#compile CNF piece by piece\n",
    "def create_cnf():\n",
    "    str_cnf = \"\"\n",
    "    str_cnf += comments()\n",
    "    str_cnf += pline()\n",
    "    str_cnf += \"c Edge Clauses \\n\"\n",
    "    str_cnf += edges_clauses()\n",
    "    str_cnf += \"c Vertex Clauses \\n\"\n",
    "    str_cnf += vertex_clauses()\n",
    "    return str_cnf\n",
    "\n",
    "def comments():\n",
    "    str_comments = \"\\\n",
    "    c Practice CNF \"\n",
    "    return str_comments\n",
    "\n",
    "#construct p as p + type + #variable + #clauses\n",
    "def pline():\n",
    "    str_pline = \"p cnf \"\n",
    "    str_pline += str(number_of_vars()) + \" \"\n",
    "    str_pline += str(number_of_clauses()) + \"\\n\"\n",
    "    return str_pline\n",
    "\n",
    "\n",
    "def edges_clauses():\n",
    "    global variable_count\n",
    "    edge_clause = \"\"\n",
    "    for edge in edges:\n",
    "        map = {\"a\":str(variable_count+1),\"b\":str(variable_count+2),\"c\":str(variable_count+3)}\n",
    "        final_key_clause = \"\"\n",
    "        for key in map.keys():\n",
    "            key_clause = \"\"\n",
    "            for k in map.keys():\n",
    "                if k!=key:\n",
    "                    key_clause += \" -\" + map[k]\n",
    "                else:\n",
    "                    key_clause += \" \" + map[k]\n",
    "            edge_clause += key_clause + \"\\n\"\n",
    "            final_key_clause += \" \" + map[key]\n",
    "        variable_count+=3\n",
    "        edge_clause += final_key_clause + \"\\n\"\n",
    "    return edge_clause\n",
    "\n",
    "def vertex_clauses():\n",
    "    global variable_count\n",
    "    vertex_clause = \"\"\n",
    "    for key in keys:\n",
    "        incidents = []\n",
    "        for n in range(0,len(edges)):\n",
    "            if ((edges[n] == (key,*)) or edges[n] == (*,key)):\n",
    "                incidents.append(edge)"
   ]
  },
  {
   "cell_type": "code",
   "execution_count": 38,
   "metadata": {},
   "outputs": [
    {
     "name": "stdout",
     "output_type": "stream",
     "text": [
      "(1, 2)\n"
     ]
    }
   ],
   "source": [
    "#graphstring = input(\"Graph:\")\n",
    "#graph = eval(graphstring)\n",
    "graph = {0: [1, 2], 1: [0, 2], 2: [0, 1]}\n",
    "keys = graph.keys()\n",
    "\n",
    "edges = []\n",
    "for key in keys:\n",
    "    for child in graph[key]:\n",
    "        if not(((key,child) in edges) or ((child,key) in edges)):\n",
    "            edges.append((key,child))\n",
    "\n",
    "print(edges[2])\n"
   ]
  },
  {
   "cell_type": "code",
   "execution_count": 32,
   "metadata": {},
   "outputs": [
    {
     "name": "stdout",
     "output_type": "stream",
     "text": [
      "    c Practice CNFp cnf 9 36\n",
      "c Edge Clauses \n",
      " 1 -2 -3\n",
      " -1 2 -3\n",
      " -1 -2 3\n",
      " 1 2 3\n",
      " 4 -5 -6\n",
      " -4 5 -6\n",
      " -4 -5 6\n",
      " 4 5 6\n",
      " 7 -8 -9\n",
      " -7 8 -9\n",
      " -7 -8 9\n",
      " 7 8 9\n",
      "c Vertex Clauses \n",
      "\n"
     ]
    }
   ],
   "source": [
    "\n",
    "print(create_cnf())"
   ]
  },
  {
   "cell_type": "code",
   "execution_count": null,
   "metadata": {},
   "outputs": [],
   "source": []
  }
 ],
 "metadata": {
  "kernelspec": {
   "display_name": "Python 3",
   "language": "python",
   "name": "python3"
  },
  "language_info": {
   "codemirror_mode": {
    "name": "ipython",
    "version": 3
   },
   "file_extension": ".py",
   "mimetype": "text/x-python",
   "name": "python",
   "nbconvert_exporter": "python",
   "pygments_lexer": "ipython3",
   "version": "3.8.3"
  }
 },
 "nbformat": 4,
 "nbformat_minor": 4
}
